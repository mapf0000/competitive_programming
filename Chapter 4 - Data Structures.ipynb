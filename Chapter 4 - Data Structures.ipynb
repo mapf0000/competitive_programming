{
 "cells": [
  {
   "cell_type": "code",
   "execution_count": 42,
   "metadata": {
    "collapsed": true
   },
   "outputs": [],
   "source": [
    "list_a = [5,2,8,9,4]\n",
    "list_b = [3,2,9,5]"
   ]
  },
  {
   "cell_type": "code",
   "execution_count": 43,
   "metadata": {
    "collapsed": true
   },
   "outputs": [],
   "source": [
    "def co_occurrence_with_set(a, b):\n",
    "    n = 0\n",
    "    set_a = set(a)\n",
    "    for i in b:\n",
    "        if i in set_a:\n",
    "            n += 1\n",
    "    return n"
   ]
  },
  {
   "cell_type": "code",
   "execution_count": 44,
   "metadata": {},
   "outputs": [],
   "source": [
    "assert co_occurrence_with_set(list_a, list_b) == 3"
   ]
  },
  {
   "cell_type": "code",
   "execution_count": 49,
   "metadata": {},
   "outputs": [],
   "source": [
    "def co_occurrence_with_sort(a, b):\n",
    "    n = 0\n",
    "    a.sort()\n",
    "    b.sort()\n",
    "    max_length = max(len(a),len(b))\n",
    "        \n",
    "    compare_a = a[0]\n",
    "    compare_b = b[0]\n",
    "    for i in range(1, max_length-1):\n",
    "        if compare_a > compare_b:\n",
    "            compare_b = b[min(i,len(b))]\n",
    "        if compare_a < compare_b:\n",
    "            compare_a = a[min(i,len(a))]\n",
    "        if compare_a == compare_b:\n",
    "            n += 1\n",
    "            compare_a = a[min(i,len(a))]\n",
    "            compare_b = b[min(i,len(b))]\n",
    "    return n"
   ]
  },
  {
   "cell_type": "code",
   "execution_count": 50,
   "metadata": {},
   "outputs": [],
   "source": [
    "assert co_occurrence_with_sort(list_a, list_b) == 3"
   ]
  },
  {
   "cell_type": "code",
   "execution_count": null,
   "metadata": {
    "collapsed": true
   },
   "outputs": [],
   "source": []
  }
 ],
 "metadata": {
  "kernelspec": {
   "display_name": "Python 3",
   "language": "python",
   "name": "python3"
  },
  "language_info": {
   "codemirror_mode": {
    "name": "ipython",
    "version": 3
   },
   "file_extension": ".py",
   "mimetype": "text/x-python",
   "name": "python",
   "nbconvert_exporter": "python",
   "pygments_lexer": "ipython3",
   "version": "3.6.3"
  }
 },
 "nbformat": 4,
 "nbformat_minor": 2
}
