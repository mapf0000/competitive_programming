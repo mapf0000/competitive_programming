{
 "cells": [
  {
   "cell_type": "markdown",
   "metadata": {},
   "source": [
    "Given an array of n numbers, our task is to calculate the maximum subarray sum, i.e., the largest possible sum of a sequence of consecutive values in the array."
   ]
  },
  {
   "cell_type": "code",
   "execution_count": 73,
   "metadata": {},
   "outputs": [],
   "source": [
    "a = [-1,2,4,-3,5,2,-5,2]\n",
    "exp = 10"
   ]
  },
  {
   "cell_type": "code",
   "execution_count": 74,
   "metadata": {},
   "outputs": [],
   "source": [
    "def max_subarray_sum_1(array):\n",
    "    \"\"\"\n",
    "    Go through all possible subarrays, calculate the sum of values in each subarray and maintain the maximum sum.\n",
    "    \"\"\"\n",
    "    best = 0\n",
    "    for i in range(len(array)):\n",
    "        for j in range(i,len(array)):\n",
    "            sum = 0\n",
    "            for k in range(i,j):\n",
    "                sum += array[k]\n",
    "            best = max(best,sum)\n",
    "    return best\n",
    "    "
   ]
  },
  {
   "cell_type": "code",
   "execution_count": 75,
   "metadata": {},
   "outputs": [],
   "source": [
    "assert max_subarray_sum_1(a) == exp"
   ]
  },
  {
   "cell_type": "code",
   "execution_count": 76,
   "metadata": {},
   "outputs": [],
   "source": [
    "def max_subarray_sum_2(array):\n",
    "    \"\"\"\n",
    "    Calculate the sum at the same time when the right end of the subarray moves.\n",
    "    \"\"\"\n",
    "    best = 0\n",
    "    for i in range(len(array)):\n",
    "        sum = 0\n",
    "        for j in range(i,len(array)):\n",
    "            sum += array[j]\n",
    "            best = max(best,sum)\n",
    "    return best"
   ]
  },
  {
   "cell_type": "code",
   "execution_count": 77,
   "metadata": {},
   "outputs": [],
   "source": [
    "assert max_subarray_sum_2(a) == exp"
   ]
  },
  {
   "cell_type": "code",
   "execution_count": 78,
   "metadata": {},
   "outputs": [],
   "source": [
    "def max_subarray_sum_3(a):\n",
    "    \"\"\"\n",
    "    Calculate, for each array position, the maximum sum of a subarray that ends at that position.\n",
    "    After this, the answer for the problem is the maximum of those sums.\n",
    "    \"\"\"\n",
    "    best = 0\n",
    "    sum = 0\n",
    "    for index, value in enumerate(array):\n",
    "        sum = max(value, sum + value)\n",
    "        best = max(best, sum)\n",
    "    return best"
   ]
  },
  {
   "cell_type": "code",
   "execution_count": 79,
   "metadata": {},
   "outputs": [],
   "source": [
    "assert max_subarray_sum_3(a) == exp"
   ]
  }
 ],
 "metadata": {
  "kernelspec": {
   "display_name": "Python 3",
   "language": "python",
   "name": "python3"
  },
  "language_info": {
   "codemirror_mode": {
    "name": "ipython",
    "version": 3
   },
   "file_extension": ".py",
   "mimetype": "text/x-python",
   "name": "python",
   "nbconvert_exporter": "python",
   "pygments_lexer": "ipython3",
   "version": "3.6.5"
  }
 },
 "nbformat": 4,
 "nbformat_minor": 2
}
